{
 "cells": [
  {
   "cell_type": "markdown",
   "id": "95a492d4",
   "metadata": {},
   "source": [
    "# Projet MRO - COP"
   ]
  },
  {
   "cell_type": "markdown",
   "id": "80685d54",
   "metadata": {},
   "source": [
    "Dans ce NoteBook, on s'applique à trouver des solutions pour notre modélisation sur le probème d'attribution de fréquences."
   ]
  },
  {
   "cell_type": "markdown",
   "id": "f898fcd6",
   "metadata": {},
   "source": [
    "## Bibliothèques"
   ]
  },
  {
   "cell_type": "code",
   "execution_count": 1,
   "id": "1500590b",
   "metadata": {},
   "outputs": [],
   "source": [
    "from pycsp3 import *\n",
    "import json\n",
    "import numpy as np\n"
   ]
  },
  {
   "cell_type": "markdown",
   "id": "7776043f",
   "metadata": {},
   "source": [
    "À utiliser à chaque fois que l'on veut lancer le code pour un nouveau fichier ou une nouvelle optimisation : cela permet de vider le contenu en amont des variables allouées pour la résolution du problème"
   ]
  },
  {
   "cell_type": "code",
   "execution_count": 2,
   "metadata": {},
   "outputs": [],
   "source": [
    "clear()"
   ]
  },
  {
   "cell_type": "markdown",
   "metadata": {},
   "source": [
    "## Initialisation de la modélisation"
   ]
  },
  {
   "cell_type": "markdown",
   "metadata": {},
   "source": [
    "### Chargement des données"
   ]
  },
  {
   "cell_type": "code",
   "execution_count": 3,
   "id": "55ecd7d9",
   "metadata": {},
   "outputs": [],
   "source": [
    "data='test.json'"
   ]
  },
  {
   "cell_type": "markdown",
   "metadata": {},
   "source": [
    "### Fonction utile pour la contrainte de région"
   ]
  },
  {
   "cell_type": "code",
   "execution_count": 4,
   "metadata": {},
   "outputs": [],
   "source": [
    "def fqc_par_region(E, R, stations, regions):\n",
    "    res = []\n",
    "    index_region = stations[0]['region']\n",
    "    fqc_utilise = []\n",
    "    for i in range(len(stations)):\n",
    "        if stations[i]['region'] == index_region: \n",
    "            fqc_utilise.append(E[i])\n",
    "            fqc_utilise.append(R[i])\n",
    "        else:\n",
    "            index_region+=1\n",
    "            res.append(fqc_utilise)\n",
    "            fqc_utilise = []\n",
    "            fqc_utilise.append(E[i])\n",
    "            fqc_utilise.append(R[i])\n",
    "    res.append(fqc_utilise)     \n",
    "    return res"
   ]
  },
  {
   "cell_type": "markdown",
   "id": "b021c396",
   "metadata": {},
   "source": [
    "### Chargemment des données et tableau utiles à l'écriture des contraintes"
   ]
  },
  {
   "cell_type": "code",
   "execution_count": 5,
   "id": "55dbebcb",
   "metadata": {},
   "outputs": [],
   "source": [
    "with open(data, 'r') as f:\n",
    "    f = json.load(f)\n",
    "    stations=f['stations']\n",
    "    liaisons = f['liaisons']\n",
    "    interferences = f['interferences']\n",
    "    regions = f['regions']"
   ]
  },
  {
   "cell_type": "markdown",
   "metadata": {},
   "source": [
    "### Création des variables de notre modélisation"
   ]
  },
  {
   "cell_type": "code",
   "execution_count": 6,
   "metadata": {},
   "outputs": [],
   "source": [
    "E_fq = VarArray( size =len(stations), dom = lambda i : stations[i][\"emetteur\"] )\n",
    "R_fq = VarArray( size =len(stations), dom = lambda i : stations[i][\"recepteur\"] )\n",
    "nb_stations = len(E_fq)"
   ]
  },
  {
   "cell_type": "code",
   "execution_count": 7,
   "metadata": {},
   "outputs": [],
   "source": [
    "list_fqc_par_region = fqc_par_region(E_fq,R_fq,stations,regions)"
   ]
  },
  {
   "cell_type": "markdown",
   "metadata": {},
   "source": [
    "### Écriture des contraintes de notre modélisation"
   ]
  },
  {
   "cell_type": "code",
   "execution_count": 8,
   "metadata": {},
   "outputs": [
    {
     "data": {
      "text/plain": [
       "intension(function:eq(dist(R_fq[0],E_fq[0]),140))\n",
       "intension(function:eq(dist(R_fq[1],E_fq[1]),140))\n",
       "intension(function:eq(dist(R_fq[2],E_fq[2]),140))\n",
       "intension(function:ge(dist(E_fq[0],R_fq[1]),20))\n",
       "intension(function:ge(dist(E_fq[0],R_fq[2]),30))\n",
       "intension(function:ge(dist(R_fq[0],E_fq[1]),20))\n",
       "intension(function:ge(dist(R_fq[0],E_fq[2]),30))\n",
       "intension(function:ge(dist(R_fq[0],R_fq[1]),20))\n",
       "intension(function:ge(dist(R_fq[0],R_fq[2]),30))\n",
       "intension(function:ge(dist(E_fq[0],E_fq[1]),20))\n",
       "intension(function:ge(dist(E_fq[0],E_fq[2]),30))\n",
       "intension(function:eq(E_fq[1],R_fq[2]))\n",
       "intension(function:eq(E_fq[2],R_fq[1]))\n",
       "nValues(list:[E_fq[0], R_fq[0]], condition:(le,2))\n",
       "nValues(list:[E_fq[1], R_fq[1], E_fq[2], R_fq[2]], condition:(le,3))"
      ]
     },
     "execution_count": 8,
     "metadata": {},
     "output_type": "execute_result"
    }
   ],
   "source": [
    "satisfy(\n",
    "        (abs(R_fq[i] - E_fq[i]) == stations[i][\"delta\"] for i in range(nb_stations)),\n",
    "\n",
    "        ((abs(E_fq[interferences[l][\"x\"]] - R_fq[interferences[l][\"y\"]])) >= interferences[l][\"Delta\"] for l in range(len(interferences))),\n",
    "\n",
    "        ((abs(R_fq[interferences[l][\"x\"]] - E_fq[interferences[l][\"y\"]])) >= interferences[l][\"Delta\"] for l in range(len(interferences))),\n",
    "\n",
    "        ((abs(R_fq[interferences[l][\"x\"]] - R_fq[interferences[l][\"y\"]])) >= interferences[l][\"Delta\"] for l in range(len(interferences))),\n",
    "\n",
    "        ((abs(E_fq[interferences[l][\"x\"]] - E_fq[interferences[l][\"y\"]])) >= interferences[l][\"Delta\"] for l in range(len(interferences))),\n",
    "\n",
    "        (E_fq[liaisons[i]['x']] == R_fq[liaisons[i]['y']] for i in range(len(liaisons))),\n",
    "\n",
    "        (E_fq[liaisons[i]['y']] == R_fq[liaisons[i]['x']] for i in range(len(liaisons))),\n",
    "\n",
    "        (NValues(list_fqc_par_region[k]) <= regions[k] for k in range(len(regions)))\n",
    "    )"
   ]
  },
  {
   "cell_type": "markdown",
   "metadata": {},
   "source": [
    "### Différentes fonctions à optimiser (n'en charger qu'une seule)"
   ]
  },
  {
   "cell_type": "markdown",
   "metadata": {},
   "source": [
    "#### Minimisation du nombre de fréquences utilisées"
   ]
  },
  {
   "cell_type": "code",
   "execution_count": 9,
   "metadata": {},
   "outputs": [
    {
     "data": {
      "text/plain": [
       "<pycsp3.classes.entities.EObjective at 0x7fdde8a0ce50>"
      ]
     },
     "execution_count": 9,
     "metadata": {},
     "output_type": "execute_result"
    }
   ],
   "source": [
    "minimize(\n",
    "    NValues(E_fq + R_fq)\n",
    ")"
   ]
  },
  {
   "cell_type": "markdown",
   "metadata": {},
   "source": [
    "#### Minimisation de la fréquence la plus élevée utilisée"
   ]
  },
  {
   "cell_type": "code",
   "execution_count": 10,
   "metadata": {},
   "outputs": [
    {
     "data": {
      "text/plain": [
       "<pycsp3.classes.entities.EObjective at 0x7fdde89fa580>"
      ]
     },
     "execution_count": 10,
     "metadata": {},
     "output_type": "execute_result"
    }
   ],
   "source": [
    "minimize(\n",
    "    Maximum(E_fq + R_fq)\n",
    ")"
   ]
  },
  {
   "cell_type": "markdown",
   "metadata": {},
   "source": [
    "#### Minimisation de la largeur de la bande de fréquences utilisées"
   ]
  },
  {
   "cell_type": "code",
   "execution_count": 11,
   "metadata": {},
   "outputs": [
    {
     "data": {
      "text/plain": [
       "<pycsp3.classes.entities.EObjective at 0x7fddd866db20>"
      ]
     },
     "execution_count": 11,
     "metadata": {},
     "output_type": "execute_result"
    }
   ],
   "source": [
    "minimize(\n",
    "    Maximum(E_fq + R_fq) - Minimum(E_fq + R_fq)\n",
    ")"
   ]
  },
  {
   "cell_type": "markdown",
   "metadata": {},
   "source": [
    "## Résolution par les solveurs ACE et CHOCO"
   ]
  },
  {
   "cell_type": "markdown",
   "metadata": {},
   "source": [
    "### Initialisation de nos solveurs"
   ]
  },
  {
   "cell_type": "code",
   "execution_count": 12,
   "metadata": {},
   "outputs": [],
   "source": [
    "instance = compile()\n",
    "ace = solver(ACE)\n",
    "choco = solver(CHOCO)"
   ]
  },
  {
   "cell_type": "markdown",
   "metadata": {},
   "source": [
    "### Calcul du temps mis en moyenne par ACE"
   ]
  },
  {
   "cell_type": "code",
   "execution_count": 13,
   "metadata": {},
   "outputs": [
    {
     "name": "stdout",
     "output_type": "stream",
     "text": [
      "421 ms ± 6.52 ms per loop (mean ± std. dev. of 7 runs, 1 loop each)\n"
     ]
    }
   ],
   "source": [
    "%%timeit \n",
    "ace.solve(instance)"
   ]
  },
  {
   "cell_type": "markdown",
   "metadata": {},
   "source": [
    "### Calcul du temps mis en moyenne par CHOCO"
   ]
  },
  {
   "cell_type": "code",
   "execution_count": 14,
   "metadata": {},
   "outputs": [
    {
     "name": "stdout",
     "output_type": "stream",
     "text": [
      "229 ms ± 8.32 ms per loop (mean ± std. dev. of 7 runs, 1 loop each)\n"
     ]
    }
   ],
   "source": [
    "%%timeit \n",
    "choco.solve(instance)"
   ]
  },
  {
   "cell_type": "markdown",
   "metadata": {},
   "source": [
    "### Résolution du problème par ACE"
   ]
  },
  {
   "cell_type": "code",
   "execution_count": 17,
   "metadata": {},
   "outputs": [
    {
     "name": "stdout",
     "output_type": "stream",
     "text": [
      "Result: OPTIMUM\n",
      "[14, 56, 196]\n",
      "[154, 196, 56]\n"
     ]
    }
   ],
   "source": [
    "result = ace.solve(instance)\n",
    "print(\"Result:\", result)\n",
    "if result is OPTIMUM:\n",
    "    print(values(E_fq))\n",
    "    print(values(R_fq))"
   ]
  },
  {
   "cell_type": "markdown",
   "metadata": {},
   "source": [
    "### Résolution du problème par CHOCO"
   ]
  },
  {
   "cell_type": "code",
   "execution_count": 16,
   "metadata": {},
   "outputs": [
    {
     "name": "stdout",
     "output_type": "stream",
     "text": [
      "Result: OPTIMUM\n",
      "[14, 196, 56]\n",
      "[154, 56, 196]\n"
     ]
    }
   ],
   "source": [
    "result = choco.solve(instance)\n",
    "print(\"Result:\", result)\n",
    "if result is OPTIMUM:\n",
    "    print(values(E_fq))\n",
    "    print(values(R_fq))"
   ]
  }
 ],
 "metadata": {
  "kernelspec": {
   "display_name": "Python 3 (ipykernel)",
   "language": "python",
   "name": "python3"
  },
  "language_info": {
   "codemirror_mode": {
    "name": "ipython",
    "version": 3
   },
   "file_extension": ".py",
   "mimetype": "text/x-python",
   "name": "python",
   "nbconvert_exporter": "python",
   "pygments_lexer": "ipython3",
   "version": "3.9.13"
  }
 },
 "nbformat": 4,
 "nbformat_minor": 5
}
