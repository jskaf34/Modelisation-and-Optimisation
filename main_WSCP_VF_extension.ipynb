{
 "cells": [
  {
   "cell_type": "markdown",
   "id": "95a492d4",
   "metadata": {},
   "source": [
    "# Projet MRO - COP"
   ]
  },
  {
   "cell_type": "markdown",
   "id": "80685d54",
   "metadata": {},
   "source": [
    "Dans ce NoteBook, on s'applique à trouver des solutions pour notre modélisation sur le problème d'attribution de fréquences."
   ]
  },
  {
   "cell_type": "markdown",
   "id": "f898fcd6",
   "metadata": {},
   "source": [
    "## Bibliothèques"
   ]
  },
  {
   "cell_type": "code",
   "execution_count": 1,
   "id": "1500590b",
   "metadata": {},
   "outputs": [],
   "source": [
    "import json\n",
    "from itertools import product\n",
    "from numpy import abs"
   ]
  },
  {
   "cell_type": "markdown",
   "metadata": {},
   "source": [
    "## Initialisation de la modélisation"
   ]
  },
  {
   "cell_type": "markdown",
   "metadata": {},
   "source": [
    "### Chargement des données"
   ]
  },
  {
   "cell_type": "code",
   "execution_count": 2,
   "id": "55ecd7d9",
   "metadata": {},
   "outputs": [],
   "source": [
    "data='test.json'\n",
    "max_bound = 1000000\n",
    "nb_fct_cout = 0\n",
    "fqc_max = 728 +1"
   ]
  },
  {
   "cell_type": "markdown",
   "id": "b021c396",
   "metadata": {},
   "source": [
    "### Chargement des données et tableau utiles à l'écriture des contraintes"
   ]
  },
  {
   "cell_type": "code",
   "execution_count": 3,
   "id": "55dbebcb",
   "metadata": {},
   "outputs": [],
   "source": [
    "with open(data, 'r') as f:\n",
    "    f = json.load(f)\n",
    "    stations=f['stations']\n",
    "    liaisons = f['liaisons']\n",
    "    interferences = f['interferences']\n",
    "    regions = f['regions']\n",
    "    nb_stations = len(stations)\n",
    "\n",
    "taille_domaine = (2 * nb_stations-1) * f'{fqc_max} '+ f'{fqc_max}\\n'\n"
   ]
  },
  {
   "cell_type": "markdown",
   "metadata": {},
   "source": [
    "### Écriture des contraintes de notre modélisation"
   ]
  },
  {
   "cell_type": "markdown",
   "metadata": {},
   "source": [
    "#### Contraintes sur les fréquences (par extension, contraintes fortes)"
   ]
  },
  {
   "cell_type": "markdown",
   "metadata": {},
   "source": [
    "On impose les fréquences des domaines de chaque antenne (émettrice et réceptrice) pour chaque station comme indiqué dans le fichier des données"
   ]
  },
  {
   "cell_type": "code",
   "execution_count": 5,
   "metadata": {},
   "outputs": [],
   "source": [
    "contraintes_fqc = f''\n",
    "for station in stations:\n",
    "    fqc_e = station['emetteur']\n",
    "    fqc_r = station['recepteur']\n",
    "    nb_tuple_e = 0\n",
    "    nb_tuple_r = 0\n",
    "    contraintes_e = f''\n",
    "    contraintes_r = f''\n",
    "    for fqc in fqc_e:\n",
    "        contraintes_e += f'{fqc} 0\\n' \n",
    "        nb_tuple_e+=1\n",
    "    for fqc in fqc_r:\n",
    "        contraintes_r += f'{fqc} 0\\n' \n",
    "        nb_tuple_r+=1\n",
    "\n",
    "    contraintes_fqc += f'1 {station[\"num\"]} {max_bound} {nb_tuple_e}\\n' + contraintes_e\n",
    "    contraintes_fqc += f'1 {station[\"num\"]+nb_stations} {max_bound} {nb_tuple_r}\\n' + contraintes_r\n",
    "    nb_fct_cout+=2"
   ]
  },
  {
   "cell_type": "markdown",
   "metadata": {},
   "source": [
    "#### Contraintes sur les $\\delta$ (par extension, contraintes fortes)"
   ]
  },
  {
   "cell_type": "markdown",
   "metadata": {},
   "source": [
    "On vérifie que $|E_i - R_i|$ soit supérieur ou égal à $\\delta$. Du fait de la valeur absolue, on rajoute dans les cas par défaut que deux fréquences $f_i$ et $f_j$, qui respectent par exemple, $|E_i - R_i|$, soient inclus pour $E_i = f_i$ et $R_i = f_j$ mais aussi $E_i = f_j$ et $R_i=f_i$"
   ]
  },
  {
   "cell_type": "code",
   "execution_count": 7,
   "metadata": {},
   "outputs": [],
   "source": [
    "delta = stations[0][\"delta\"]\n",
    "contraintes_delta = f''\n",
    "for station in stations:\n",
    "    contrainte_delta = f''\n",
    "    fqc_e = station['emetteur']\n",
    "    fqc_r = station['recepteur']\n",
    "    fqc_possible = list(product(fqc_e, fqc_r))\n",
    "    nb_tuple_delta = 0\n",
    "    for item in fqc_possible:\n",
    "        if abs(item[0]-item[1]) == station[\"delta\"]:\n",
    "            contrainte_delta += f'{item[0]} {item[1]} 0\\n'\n",
    "            contrainte_delta += f'{item[1]} {item[0]} 0\\n'\n",
    "            nb_tuple_delta +=2\n",
    "    contraintes_delta += f'2 {station[\"num\"]} {station[\"num\"] + nb_stations} {max_bound} {nb_tuple_delta}\\n' + contrainte_delta\n",
    "    nb_fct_cout+=1\n",
    "\n"
   ]
  },
  {
   "cell_type": "markdown",
   "metadata": {},
   "source": [
    "#### Contraintes sur les $\\Delta$ (par extension, contraintes molles)"
   ]
  },
  {
   "cell_type": "markdown",
   "metadata": {},
   "source": [
    "On vérifie que $|E_i - R_j|, |E_i - E_j|, |R_i - R_j| et |R_i - E_j|$ soient supérieurs ou égaux à $\\Delta$. Du fait de la valeur absolue, on rajoute dans les cas par défaut que deux fréqeunces $f_i$ et $f_j$, qui respectent par exemple et sans perte de généralité, $|E_i - R_j|$, soient inclus pour $E_i = f_i$ et $R_j = f_j$ mais aussi $E_i = f_j$ et $R_j=f_i$"
   ]
  },
  {
   "cell_type": "code",
   "execution_count": 9,
   "metadata": {},
   "outputs": [],
   "source": [
    "contraintes_Delta = f''\n",
    "for interference in interferences:\n",
    "    \n",
    "    fqc_e_x = stations[interference[\"x\"]]['emetteur']\n",
    "    fqc_r_x = stations[interference[\"x\"]]['recepteur']\n",
    "    fqc_e_y = stations[interference[\"y\"]]['emetteur']\n",
    "    fqc_r_y = stations[interference[\"y\"]]['recepteur']\n",
    "\n",
    "    fqc_possible_e_x_e_y = list(product(fqc_e_x, fqc_e_y))\n",
    "    fqc_possible_e_x_r_y = list(product(fqc_e_x, fqc_r_y))\n",
    "    fqc_possible_r_x_r_y = list(product(fqc_r_x, fqc_r_y))\n",
    "    fqc_possible_r_x_e_y = list(product(fqc_r_x, fqc_e_y))\n",
    "\n",
    "    contraintes_e_x_e_y = f''\n",
    "    nb_tuple_delta_e_x_e_y = 0\n",
    "    for item in fqc_possible:\n",
    "        if abs(item[0]-item[1]) >= interference[\"Delta\"]:\n",
    "            contraintes_e_x_e_y += f'{item[0]} {item[1]} 0\\n'\n",
    "            contraintes_e_x_e_y += f'{item[1]} {item[0]} 0\\n'\n",
    "            nb_tuple_delta_e_x_e_y +=2   \n",
    "\n",
    "    contraintes_e_x_r_y = f''\n",
    "    nb_tuple_delta_e_x_r_y = 0\n",
    "    for item in fqc_possible:\n",
    "        if abs(item[0]-item[1]) >= interference[\"Delta\"]:\n",
    "            contraintes_e_x_r_y += f'{item[0]} {item[1]} 0\\n'\n",
    "            contraintes_e_x_r_y += f'{item[1]} {item[0]} 0\\n'\n",
    "            nb_tuple_delta_e_x_r_y +=2  \n",
    "\n",
    "    \n",
    "    contraintes_r_x_r_y = f''\n",
    "    nb_tuple_delta_r_x_r_y = 0\n",
    "    for item in fqc_possible:\n",
    "        if abs(item[0]-item[1]) >= interference[\"Delta\"]:\n",
    "            contraintes_r_x_r_y += f'{item[0]} {item[1]} 0\\n'\n",
    "            contraintes_r_x_r_y += f'{item[1]} {item[0]} 0\\n'\n",
    "            nb_tuple_delta_r_x_r_y +=2 \n",
    "\n",
    "    contraintes_r_x_e_y = f''\n",
    "    nb_tuple_delta_r_x_e_y = 0\n",
    "    for item in fqc_possible:\n",
    "        if abs(item[0]-item[1]) >= interference[\"Delta\"]:\n",
    "            contraintes_r_x_e_y += f'{item[0]} {item[1]} 0\\n'\n",
    "            contraintes_r_x_e_y += f'{item[1]} {item[0]} 0\\n'\n",
    "            nb_tuple_delta_r_x_e_y +=2  \n",
    "\n",
    "    contrainte_Delta_e_x_e_y = f'2 {interference[\"x\"]} {interference[\"y\"]} {interference[\"Delta\"]} {nb_tuple_delta_e_x_e_y}\\n' + contraintes_e_x_e_y\n",
    "    contrainte_Delta_e_x_r_y = f'2 {interference[\"x\"]} {interference[\"y\"]+nb_stations} {interference[\"Delta\"]} {nb_tuple_delta_e_x_r_y}\\n' + contraintes_e_x_r_y\n",
    "    contrainte_Delta_r_x_e_y = f'2 {interference[\"x\"]+nb_stations} {interference[\"y\"]} {interference[\"Delta\"]} {nb_tuple_delta_r_x_e_y}\\n' + contraintes_r_x_e_y\n",
    "    contrainte_Delta_r_x_r_y = f'2 {interference[\"x\"]+nb_stations} {interference[\"y\"]+nb_stations} {interference[\"Delta\"]} {nb_tuple_delta_r_x_r_y}\\n' + contraintes_r_x_r_y\n",
    "\n",
    "    contraintes_Delta+= contrainte_Delta_e_x_e_y\n",
    "    contraintes_Delta+= contrainte_Delta_e_x_r_y\n",
    "    contraintes_Delta+= contrainte_Delta_r_x_e_y\n",
    "    contraintes_Delta+= contrainte_Delta_r_x_r_y\n",
    "    nb_fct_cout+=4"
   ]
  },
  {
   "cell_type": "markdown",
   "metadata": {},
   "source": [
    "#### Contraintes sur les liaisons (par extension, contraintes fortes)"
   ]
  },
  {
   "cell_type": "markdown",
   "metadata": {},
   "source": [
    "On vérifie que si deux stations sont liées, alors $E_i = R_j$ et $R_i = E_j$. "
   ]
  },
  {
   "cell_type": "code",
   "execution_count": 11,
   "metadata": {},
   "outputs": [],
   "source": [
    "contraintes_liaisons = f''\n",
    "for liaison in liaisons:\n",
    "    fqc_e_x = stations[liaison[\"x\"]]['emetteur']\n",
    "    fqc_r_x = stations[liaison[\"x\"]]['recepteur']\n",
    "    fqc_e_y = stations[liaison[\"y\"]]['emetteur']\n",
    "    fqc_r_y = stations[liaison[\"y\"]]['recepteur']\n",
    "\n",
    "\n",
    "    fqc_possible_e_x_r_y = list(product(fqc_e_x, fqc_r_y))\n",
    "    fqc_possible_r_x_e_y = list(product(fqc_r_x, fqc_e_y))\n",
    "\n",
    "    contraintes_e_x_r_y = f''\n",
    "    nb_tuple_liaison_e_x_r_y = 0\n",
    "    for item in fqc_possible:\n",
    "        if item[0] == item[1]:\n",
    "            contraintes_e_x_r_y += f'{item[0]} {item[1]} 0\\n'\n",
    "            nb_tuple_liaison_e_x_r_y +=1  \n",
    "\n",
    "    contraintes_r_x_e_y = f''\n",
    "    nb_tuple_liaison_r_x_e_y = 0\n",
    "    for item in fqc_possible:\n",
    "        if item[0] == item[1]:\n",
    "            contraintes_r_x_e_y += f'{item[0]} {item[1]} 0\\n'\n",
    "            nb_tuple_liaison_r_x_e_y +=1  \n",
    "\n",
    "\n",
    "    contraintes_liaisons += f'2 {liaison[\"x\"]+nb_stations} {liaison[\"y\"]} {max_bound} {nb_tuple_liaison_e_x_r_y}\\n' + contraintes_e_x_r_y\n",
    "    contraintes_liaisons += f'2 {liaison[\"x\"]} {liaison[\"y\"]+nb_stations} {max_bound} {nb_tuple_liaison_r_x_e_y}\\n' + contraintes_r_x_e_y\n",
    "    nb_fct_cout+=2"
   ]
  },
  {
   "cell_type": "markdown",
   "metadata": {},
   "source": [
    "## Écriture du fichier WCSP"
   ]
  },
  {
   "cell_type": "code",
   "execution_count": 13,
   "metadata": {},
   "outputs": [],
   "source": [
    "fichier = open(\"allocation_fqc.wcsp\", 'w')\n",
    "fichier.write(f'frequence_allocation {2*nb_stations} {fqc_max} {nb_fct_cout} {max_bound}\\n' + taille_domaine + contraintes_fqc + contraintes_delta + contraintes_Delta + contraintes_liaisons)\n",
    "fichier.close()"
   ]
  }
 ],
 "metadata": {
  "kernelspec": {
   "display_name": "Python 3 (ipykernel)",
   "language": "python",
   "name": "python3"
  },
  "language_info": {
   "codemirror_mode": {
    "name": "ipython",
    "version": 3
   },
   "file_extension": ".py",
   "mimetype": "text/x-python",
   "name": "python",
   "nbconvert_exporter": "python",
   "pygments_lexer": "ipython3",
   "version": "3.9.13"
  }
 },
 "nbformat": 4,
 "nbformat_minor": 5
}
